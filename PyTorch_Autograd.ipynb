{
  "nbformat": 4,
  "nbformat_minor": 0,
  "metadata": {
    "colab": {
      "name": "PyTorch_Autograd.ipynb",
      "provenance": [],
      "authorship_tag": "ABX9TyPPlkNIFtgLq03f0OmYYYkJ",
      "include_colab_link": true
    },
    "kernelspec": {
      "name": "python3",
      "display_name": "Python 3"
    },
    "language_info": {
      "name": "python"
    }
  },
  "cells": [
    {
      "cell_type": "markdown",
      "metadata": {
        "id": "view-in-github",
        "colab_type": "text"
      },
      "source": [
        "<a href=\"https://colab.research.google.com/github/aravindskumar98/PyEVM/blob/master/PyTorch_Autograd.ipynb\" target=\"_parent\"><img src=\"https://colab.research.google.com/assets/colab-badge.svg\" alt=\"Open In Colab\"/></a>"
      ]
    },
    {
      "cell_type": "code",
      "execution_count": 1,
      "metadata": {
        "colab": {
          "base_uri": "https://localhost:8080/"
        },
        "id": "VhBIpalKvIpP",
        "outputId": "ea5620e7-69e1-41b5-e18c-2fafc2d2df0e"
      },
      "outputs": [
        {
          "output_type": "stream",
          "name": "stdout",
          "text": [
            "tensor([-3.5350e-09])\n"
          ]
        }
      ],
      "source": [
        "## Tensors can be 1D 2D or 3D+\n",
        "\n",
        "import torch\n",
        "\n",
        "x = torch.empty(1)\n",
        "print(x)"
      ]
    },
    {
      "cell_type": "code",
      "source": [
        "x = torch.empty(3) ##uninitialised tensor\n",
        "print(x)"
      ],
      "metadata": {
        "colab": {
          "base_uri": "https://localhost:8080/"
        },
        "id": "LMY4btWjvc6p",
        "outputId": "44b8ced2-bdf7-422b-8bf6-b24d41f4bd8d"
      },
      "execution_count": 2,
      "outputs": [
        {
          "output_type": "stream",
          "name": "stdout",
          "text": [
            "tensor([-3.5351e-09,  3.0780e-41,  3.3631e-44])\n"
          ]
        }
      ]
    },
    {
      "cell_type": "code",
      "source": [
        "x = torch.zeros(2,3)\n",
        "print(x)"
      ],
      "metadata": {
        "colab": {
          "base_uri": "https://localhost:8080/"
        },
        "id": "Cc_ahDl_vkVF",
        "outputId": "a44c94a4-c6f9-42d1-9e24-cf0bebe376b2"
      },
      "execution_count": 10,
      "outputs": [
        {
          "output_type": "stream",
          "name": "stdout",
          "text": [
            "tensor([[0., 0., 0.],\n",
            "        [0., 0., 0.]])\n"
          ]
        }
      ]
    },
    {
      "cell_type": "code",
      "source": [
        "x = torch.rand(1)\n",
        "print(x)"
      ],
      "metadata": {
        "colab": {
          "base_uri": "https://localhost:8080/"
        },
        "id": "DggUJJWZvnu2",
        "outputId": "03191928-9238-4e51-ff87-14068d1ba1a4"
      },
      "execution_count": 11,
      "outputs": [
        {
          "output_type": "stream",
          "name": "stdout",
          "text": [
            "tensor([0.3615])\n"
          ]
        }
      ]
    },
    {
      "cell_type": "code",
      "source": [
        "x = torch.ones(2,3)\n",
        "print(x.dtype)"
      ],
      "metadata": {
        "colab": {
          "base_uri": "https://localhost:8080/"
        },
        "id": "cp0P40aPwKIN",
        "outputId": "4b3b95f7-6cfb-4c56-f941-87b8bb1500cd"
      },
      "execution_count": 13,
      "outputs": [
        {
          "output_type": "stream",
          "name": "stdout",
          "text": [
            "torch.float32\n"
          ]
        }
      ]
    },
    {
      "cell_type": "code",
      "source": [
        "x = torch.ones(2,3, dtype = torch.int)\n",
        "print(x.dtype)"
      ],
      "metadata": {
        "colab": {
          "base_uri": "https://localhost:8080/"
        },
        "id": "_3CbC36wwUYe",
        "outputId": "ad6d2333-fab4-4ed0-f9cc-bdeebfa64726"
      },
      "execution_count": 14,
      "outputs": [
        {
          "output_type": "stream",
          "name": "stdout",
          "text": [
            "torch.int32\n"
          ]
        }
      ]
    },
    {
      "cell_type": "code",
      "source": [
        "print(x.size())"
      ],
      "metadata": {
        "colab": {
          "base_uri": "https://localhost:8080/"
        },
        "id": "Wqb6OGwxwcIa",
        "outputId": "cabafc52-b9f7-4f42-9b7a-abb000932b8f"
      },
      "execution_count": 15,
      "outputs": [
        {
          "output_type": "stream",
          "name": "stdout",
          "text": [
            "torch.Size([2, 3])\n"
          ]
        }
      ]
    },
    {
      "cell_type": "code",
      "source": [
        "##make from list\n",
        "y = [2,3,4.5]\n",
        "\n",
        "x = torch.tensor(y)\n",
        "print(x)"
      ],
      "metadata": {
        "colab": {
          "base_uri": "https://localhost:8080/"
        },
        "id": "IyiViqSJwnGk",
        "outputId": "f50d653f-42df-4d37-b322-d0bee47f583b"
      },
      "execution_count": 17,
      "outputs": [
        {
          "output_type": "stream",
          "name": "stdout",
          "text": [
            "tensor([2.0000, 3.0000, 4.5000])\n"
          ]
        }
      ]
    },
    {
      "cell_type": "code",
      "source": [
        "## operations\n",
        "\n",
        "x = torch.rand(2,2)\n",
        "y = torch.rand(2,2)\n",
        "z = x + y ## element wise additions\n",
        "z1 = torch.add(x,y) ##same thing\n",
        "print(x,y,z,z1)"
      ],
      "metadata": {
        "colab": {
          "base_uri": "https://localhost:8080/"
        },
        "id": "82X-b7bGwvkm",
        "outputId": "e80afd26-2996-4db8-8d09-675d42b8b6d5"
      },
      "execution_count": 18,
      "outputs": [
        {
          "output_type": "stream",
          "name": "stdout",
          "text": [
            "tensor([[0.3891, 0.5238],\n",
            "        [0.2636, 0.0364]]) tensor([[0.8139, 0.9528],\n",
            "        [0.6845, 0.6395]]) tensor([[1.2030, 1.4765],\n",
            "        [0.9480, 0.6758]]) tensor([[1.2030, 1.4765],\n",
            "        [0.9480, 0.6758]])\n"
          ]
        }
      ]
    },
    {
      "cell_type": "code",
      "source": [
        "## inplace additions\n",
        "y.add_(x) ##modifies y\n",
        "print(y)"
      ],
      "metadata": {
        "colab": {
          "base_uri": "https://localhost:8080/"
        },
        "id": "UFWohaqdw_L8",
        "outputId": "e856b1c2-958f-43ae-e4f6-014bcf0d4158"
      },
      "execution_count": 19,
      "outputs": [
        {
          "output_type": "stream",
          "name": "stdout",
          "text": [
            "tensor([[1.2030, 1.4765],\n",
            "        [0.9480, 0.6758]])\n"
          ]
        }
      ]
    },
    {
      "cell_type": "code",
      "source": [
        "## subtractions\n",
        "t = torch.sub(x,y) ## t = x-y\n",
        "m = torch.mul(x,y) ##x*y elementwise\n",
        "d = torch.div(x,y) ## x/y -- elementwise\n"
      ],
      "metadata": {
        "id": "Gr3FIm0HxK33"
      },
      "execution_count": 20,
      "outputs": []
    },
    {
      "cell_type": "code",
      "source": [
        "##slicing\n",
        "\n",
        "x = torch.rand(5,3)\n",
        "print(x)\n",
        "print(x[:,0])\n",
        "print(x[1,:])\n"
      ],
      "metadata": {
        "colab": {
          "base_uri": "https://localhost:8080/"
        },
        "id": "ZuWZ0s5qxlvJ",
        "outputId": "0ef57885-7b97-4b96-e264-51bedbc21062"
      },
      "execution_count": 23,
      "outputs": [
        {
          "output_type": "stream",
          "name": "stdout",
          "text": [
            "tensor([[0.8963, 0.2661, 0.9312],\n",
            "        [0.7264, 0.6143, 0.7322],\n",
            "        [0.6077, 0.4772, 0.6704],\n",
            "        [0.8181, 0.8597, 0.9911],\n",
            "        [0.9012, 0.3844, 0.0384]])\n",
            "tensor([0.8963, 0.7264, 0.6077, 0.8181, 0.9012])\n",
            "tensor([0.7264, 0.6143, 0.7322])\n"
          ]
        }
      ]
    },
    {
      "cell_type": "code",
      "source": [
        "print(x[1,1])"
      ],
      "metadata": {
        "colab": {
          "base_uri": "https://localhost:8080/"
        },
        "id": "YqNOXHsqxsLF",
        "outputId": "803cdfc9-92da-4c92-d1d1-de3c211948a2"
      },
      "execution_count": 24,
      "outputs": [
        {
          "output_type": "stream",
          "name": "stdout",
          "text": [
            "tensor(0.6143)\n"
          ]
        }
      ]
    },
    {
      "cell_type": "code",
      "source": [
        "print(x[1,1].item()) ##gets actual value but can only be used if only one element present"
      ],
      "metadata": {
        "colab": {
          "base_uri": "https://localhost:8080/"
        },
        "id": "jksOcktmx23H",
        "outputId": "0fdd1cd0-d723-4dc3-9c3b-a4ea99ffc3b7"
      },
      "execution_count": 25,
      "outputs": [
        {
          "output_type": "stream",
          "name": "stdout",
          "text": [
            "0.6143475770950317\n"
          ]
        }
      ]
    },
    {
      "cell_type": "code",
      "source": [
        "## reshape\n",
        "\n",
        "x = torch.rand(4,4)\n",
        "y = x.view(16)\n",
        "print(x)\n",
        "print(y)"
      ],
      "metadata": {
        "colab": {
          "base_uri": "https://localhost:8080/"
        },
        "id": "C4GfLZtYx_T5",
        "outputId": "8523bb47-41b4-4890-febe-8fa40c62232f"
      },
      "execution_count": 26,
      "outputs": [
        {
          "output_type": "stream",
          "name": "stdout",
          "text": [
            "tensor([[0.5507, 0.7887, 0.9404, 0.1277],\n",
            "        [0.5863, 0.3021, 0.9792, 0.4845],\n",
            "        [0.3963, 0.4878, 0.2281, 0.0096],\n",
            "        [0.9297, 0.2670, 0.7781, 0.5593]])\n",
            "tensor([0.5507, 0.7887, 0.9404, 0.1277, 0.5863, 0.3021, 0.9792, 0.4845, 0.3963,\n",
            "        0.4878, 0.2281, 0.0096, 0.9297, 0.2670, 0.7781, 0.5593])\n"
          ]
        }
      ]
    },
    {
      "cell_type": "code",
      "source": [
        "y = x.view(16,1)\n",
        "print(y)\n"
      ],
      "metadata": {
        "colab": {
          "base_uri": "https://localhost:8080/"
        },
        "id": "b3KoibkOyIbU",
        "outputId": "bd2ab3d8-8faf-4ef6-cec5-dd2abf0bde81"
      },
      "execution_count": 27,
      "outputs": [
        {
          "output_type": "stream",
          "name": "stdout",
          "text": [
            "tensor([[0.5507],\n",
            "        [0.7887],\n",
            "        [0.9404],\n",
            "        [0.1277],\n",
            "        [0.5863],\n",
            "        [0.3021],\n",
            "        [0.9792],\n",
            "        [0.4845],\n",
            "        [0.3963],\n",
            "        [0.4878],\n",
            "        [0.2281],\n",
            "        [0.0096],\n",
            "        [0.9297],\n",
            "        [0.2670],\n",
            "        [0.7781],\n",
            "        [0.5593]])\n"
          ]
        }
      ]
    },
    {
      "cell_type": "code",
      "source": [
        "y = x.view(-1,8) ##pytorch understands -1 and fits size accordingly\n",
        "print(y)\n"
      ],
      "metadata": {
        "colab": {
          "base_uri": "https://localhost:8080/"
        },
        "id": "Lv4hLCNzyMw8",
        "outputId": "92887f75-e670-403c-e727-07ceffb84c30"
      },
      "execution_count": 28,
      "outputs": [
        {
          "output_type": "stream",
          "name": "stdout",
          "text": [
            "tensor([[0.5507, 0.7887, 0.9404, 0.1277, 0.5863, 0.3021, 0.9792, 0.4845],\n",
            "        [0.3963, 0.4878, 0.2281, 0.0096, 0.9297, 0.2670, 0.7781, 0.5593]])\n"
          ]
        }
      ]
    },
    {
      "cell_type": "code",
      "source": [
        "## numpy to torch and vise versa\n",
        "\n",
        "import numpy as np\n",
        "\n",
        "a = torch.ones(5)\n",
        "print(a)"
      ],
      "metadata": {
        "colab": {
          "base_uri": "https://localhost:8080/"
        },
        "id": "iXlq3dRNyU_o",
        "outputId": "7e864f30-ac15-4922-8cb8-7b2c5b1205f4"
      },
      "execution_count": 29,
      "outputs": [
        {
          "output_type": "stream",
          "name": "stdout",
          "text": [
            "tensor([1., 1., 1., 1., 1.])\n"
          ]
        }
      ]
    },
    {
      "cell_type": "code",
      "source": [
        "b = a.numpy()\n",
        "print(b,type(b)) ## CAUTION!!: if the tensor is on the CPU and not GPU then both objects will  share the same memory location"
      ],
      "metadata": {
        "colab": {
          "base_uri": "https://localhost:8080/"
        },
        "id": "GvQrMCHCygVw",
        "outputId": "63d10310-c939-4a13-ed20-729d31b08698"
      },
      "execution_count": 31,
      "outputs": [
        {
          "output_type": "stream",
          "name": "stdout",
          "text": [
            "[1. 1. 1. 1. 1.] <class 'numpy.ndarray'>\n"
          ]
        }
      ]
    },
    {
      "cell_type": "code",
      "source": [
        "a.add_(1)\n",
        "print(a)"
      ],
      "metadata": {
        "colab": {
          "base_uri": "https://localhost:8080/"
        },
        "id": "pxUdMVlxykau",
        "outputId": "ec42c035-c3f4-4544-e8d0-e7df4bef8890"
      },
      "execution_count": 32,
      "outputs": [
        {
          "output_type": "stream",
          "name": "stdout",
          "text": [
            "tensor([2., 2., 2., 2., 2.])\n"
          ]
        }
      ]
    },
    {
      "cell_type": "code",
      "source": [
        "print(b) ## b is also modified since they point to the same memory location"
      ],
      "metadata": {
        "colab": {
          "base_uri": "https://localhost:8080/"
        },
        "id": "wV-2SJi4y-Ss",
        "outputId": "0a9aca9f-adff-4c67-e00a-709604c301c2"
      },
      "execution_count": 33,
      "outputs": [
        {
          "output_type": "stream",
          "name": "stdout",
          "text": [
            "[2. 2. 2. 2. 2.]\n"
          ]
        }
      ]
    },
    {
      "cell_type": "code",
      "source": [
        "\n",
        "from torch._C import dtype\n",
        "a = np.ones(5)\n",
        "b = torch.from_numpy(a)\n",
        "print(b,b.dtype) ## same location "
      ],
      "metadata": {
        "colab": {
          "base_uri": "https://localhost:8080/"
        },
        "id": "c3sigC-1zArZ",
        "outputId": "57a2452b-a5da-4a09-c0e1-8ba4b0a17a18"
      },
      "execution_count": 38,
      "outputs": [
        {
          "output_type": "stream",
          "name": "stdout",
          "text": [
            "tensor([1., 1., 1., 1., 1.], dtype=torch.float64) torch.float64\n"
          ]
        }
      ]
    },
    {
      "cell_type": "code",
      "source": [
        "if torch.cuda.is_available():\n",
        "  device = torch.device(\"cuda\")\n",
        "  x = torch.ones(5, device=device)\n",
        "  y = torch.ones(5) ##CPU\n",
        "  y = y.to(device) ##moved to GPU\n",
        "  z = x+y\n",
        "  z.numpy() ##throws error as numpy can only act on CPU tensors\n",
        "\n",
        "  z = z.to(\"cpu\")\n",
        "  z.numpy()"
      ],
      "metadata": {
        "colab": {
          "base_uri": "https://localhost:8080/"
        },
        "id": "WEklZnl8zezS",
        "outputId": "8fc2fd9e-f409-4c25-ccb8-c7b4daffaa9c"
      },
      "execution_count": 39,
      "outputs": [
        {
          "output_type": "execute_result",
          "data": {
            "text/plain": [
              "False"
            ]
          },
          "metadata": {},
          "execution_count": 39
        }
      ]
    },
    {
      "cell_type": "code",
      "source": [
        "x = torch.ones(5, requires_grad = True)\n",
        "print(x)"
      ],
      "metadata": {
        "colab": {
          "base_uri": "https://localhost:8080/"
        },
        "id": "J5M6cz7Vzx3Y",
        "outputId": "d2d68b60-a4b5-4d50-faec-6c92ed304488"
      },
      "execution_count": 40,
      "outputs": [
        {
          "output_type": "stream",
          "name": "stdout",
          "text": [
            "tensor([1., 1., 1., 1., 1.], requires_grad=True)\n"
          ]
        }
      ]
    },
    {
      "cell_type": "markdown",
      "source": [
        "# Revision Part 2 -- Gradient Calculation"
      ],
      "metadata": {
        "id": "chfj9JI70kaF"
      }
    },
    {
      "cell_type": "code",
      "source": [
        "### autograd package in pytorch\n",
        "\n",
        "import torch \n",
        "x = torch.randn(3, requires_grad = True)\n",
        "print(x)"
      ],
      "metadata": {
        "colab": {
          "base_uri": "https://localhost:8080/"
        },
        "id": "8LST7bws0szD",
        "outputId": "ecd0558b-ef09-4935-8046-bf855de452ea"
      },
      "execution_count": 74,
      "outputs": [
        {
          "output_type": "stream",
          "name": "stdout",
          "text": [
            "tensor([0.5507, 1.5505, 0.0030], requires_grad=True)\n"
          ]
        }
      ]
    },
    {
      "cell_type": "code",
      "source": [
        "y = x+2"
      ],
      "metadata": {
        "id": "Rn89ckhg10uc"
      },
      "execution_count": 75,
      "outputs": []
    },
    {
      "cell_type": "code",
      "source": [
        "print(y)\n",
        "# y.backward()\n",
        "print(x.grad)"
      ],
      "metadata": {
        "colab": {
          "base_uri": "https://localhost:8080/"
        },
        "id": "K46p5d6N17jN",
        "outputId": "dc8e0046-1cbf-45de-9dd2-02ae546c2dbf"
      },
      "execution_count": 76,
      "outputs": [
        {
          "output_type": "stream",
          "name": "stdout",
          "text": [
            "tensor([2.5507, 3.5505, 2.0030], grad_fn=<AddBackward0>)\n",
            "None\n"
          ]
        }
      ]
    },
    {
      "cell_type": "code",
      "source": [
        "z = y*y*2\n",
        "print(z)"
      ],
      "metadata": {
        "colab": {
          "base_uri": "https://localhost:8080/"
        },
        "id": "cwoQlIUm2V8I",
        "outputId": "4430eb9d-17f5-48b8-fe89-020e052ebb11"
      },
      "execution_count": 77,
      "outputs": [
        {
          "output_type": "stream",
          "name": "stdout",
          "text": [
            "tensor([13.0118, 25.2121,  8.0239], grad_fn=<MulBackward0>)\n"
          ]
        }
      ]
    },
    {
      "cell_type": "code",
      "source": [
        "z = z.mean()\n",
        "print(z)"
      ],
      "metadata": {
        "colab": {
          "base_uri": "https://localhost:8080/"
        },
        "id": "R3n7lwfe2crp",
        "outputId": "3987e8f6-ea7a-44f5-a2a3-519644e0323a"
      },
      "execution_count": 78,
      "outputs": [
        {
          "output_type": "stream",
          "name": "stdout",
          "text": [
            "tensor(15.4159, grad_fn=<MeanBackward0>)\n"
          ]
        }
      ]
    },
    {
      "cell_type": "code",
      "source": [
        "c = z.backward() ## calculates dz/dx"
      ],
      "metadata": {
        "id": "y6PaXBuR2jo8"
      },
      "execution_count": 79,
      "outputs": []
    },
    {
      "cell_type": "code",
      "source": [
        "print(x.grad) ## stores and prints gradient\n",
        "print(c)"
      ],
      "metadata": {
        "colab": {
          "base_uri": "https://localhost:8080/"
        },
        "id": "ULyIzFHz2nHd",
        "outputId": "0843725b-b2b3-4cf5-8fd4-c593d3158880"
      },
      "execution_count": 80,
      "outputs": [
        {
          "output_type": "stream",
          "name": "stdout",
          "text": [
            "tensor([3.4009, 4.7340, 2.6706])\n",
            "None\n"
          ]
        }
      ]
    },
    {
      "cell_type": "code",
      "source": [
        "## for non scalar \n",
        "z = y*y*2\n",
        "v = torch.tensor([0.1,0.1,0.001],dtype=torch.float32)\n",
        "z.backward(v)\n",
        "print(x.grad)"
      ],
      "metadata": {
        "colab": {
          "base_uri": "https://localhost:8080/"
        },
        "id": "r82vHNfb2ucw",
        "outputId": "ad5b0be2-cb31-4cf5-de9d-0a49b444e4d0"
      },
      "execution_count": 82,
      "outputs": [
        {
          "output_type": "stream",
          "name": "stdout",
          "text": [
            "tensor([4.4212, 6.1542, 2.6787])\n"
          ]
        }
      ]
    },
    {
      "cell_type": "code",
      "source": [
        "## prevent pytorch from tracking history // excluding a process from grad\n",
        "\n",
        "#option 1 || x.requires_grad_(False)\n",
        "#2 || y = x.detach() --- creates a new tensor without gradients\n",
        "#3 || with torch.no_grad():\n",
        "\n",
        "x.requires_grad_(False)\n",
        "\n",
        "##or\n",
        "\n",
        "with torch.no_grad():\n",
        "  y = x+2\n",
        "  print(y) ## no gradient\n"
      ],
      "metadata": {
        "colab": {
          "base_uri": "https://localhost:8080/"
        },
        "id": "p7odWgJn2-uY",
        "outputId": "067bd629-b7aa-4107-d0b0-8425c82cd046"
      },
      "execution_count": 83,
      "outputs": [
        {
          "output_type": "stream",
          "name": "stdout",
          "text": [
            "tensor([2.5507, 3.5505, 2.0030])\n"
          ]
        }
      ]
    },
    {
      "cell_type": "code",
      "source": [
        "## whenever backward is called, this is acculmulated into x.grad\n",
        "\n",
        "import torch\n",
        "weights = torch.ones(4,requires_grad = True)\n",
        "for epoch in range(3):\n",
        "  model_output = (weights*3).sum()\n",
        "  model_output.backward()\n",
        "  print(weights.grad)\n",
        "\n",
        "  weights.grad.zero_() ##resets to zero"
      ],
      "metadata": {
        "colab": {
          "base_uri": "https://localhost:8080/"
        },
        "id": "nUUr4Smi6Zcs",
        "outputId": "d9d8a18a-72a4-4541-9186-828fadd5197d"
      },
      "execution_count": 86,
      "outputs": [
        {
          "output_type": "stream",
          "name": "stdout",
          "text": [
            "tensor([3., 3., 3., 3.])\n",
            "tensor([3., 3., 3., 3.])\n",
            "tensor([3., 3., 3., 3.])\n"
          ]
        }
      ]
    },
    {
      "cell_type": "code",
      "source": [
        "optimizer = torch.optim.SGD(weights,lr=0.01)\n",
        "optimizer.step()\n",
        "optimizer.zero_grad() ##same effect as above cell"
      ],
      "metadata": {
        "id": "ZTzS3Mm-6z9-"
      },
      "execution_count": null,
      "outputs": []
    }
  ]
}